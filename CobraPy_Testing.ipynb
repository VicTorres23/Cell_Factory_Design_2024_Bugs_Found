{
 "cells": [
  {
   "cell_type": "code",
   "execution_count": 10,
   "id": "60d13b86-72ae-4d81-80d2-49a9277b27f0",
   "metadata": {},
   "outputs": [
    {
     "name": "stdout",
     "output_type": "stream",
     "text": [
      "A\n",
      "I'm A\n",
      "frozenset()\n"
     ]
    }
   ],
   "source": [
    "import cobra\n",
    "from cobra import Model, Reaction, Metabolite\n",
    "\n",
    "model = Model(\"Test\")\n",
    "A = Metabolite(\"A\", name=\"I'm A\", formula=\"CH4\")\n",
    "B = Metabolite(\"B\", name=\"I'm B\", formula=\"H2O\")\n",
    "C = Metabolite(\"C\", name=\"I'm C\")\n",
    "\n",
    "model.add_metabolites([A, B, C])\n",
    "print(model.metabolites.get_by_id(\"A\"))\n",
    "print(A.name)\n",
    "print(A.reactions)"
   ]
  },
  {
   "cell_type": "code",
   "execution_count": null,
   "id": "b0f4808f-786b-4f82-86a8-03bcd4eb139c",
   "metadata": {},
   "outputs": [],
   "source": []
  }
 ],
 "metadata": {
  "kernelspec": {
   "display_name": "Python 3 (ipykernel)",
   "language": "python",
   "name": "python3"
  },
  "language_info": {
   "codemirror_mode": {
    "name": "ipython",
    "version": 3
   },
   "file_extension": ".py",
   "mimetype": "text/x-python",
   "name": "python",
   "nbconvert_exporter": "python",
   "pygments_lexer": "ipython3",
   "version": "3.9.6"
  }
 },
 "nbformat": 4,
 "nbformat_minor": 5
}
